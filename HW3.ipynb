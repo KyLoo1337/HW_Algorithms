{
 "cells": [
  {
   "cell_type": "markdown",
   "id": "742656ff",
   "metadata": {},
   "source": [
    "Вводится вектор. Вывести максимум из его элементов."
   ]
  },
  {
   "cell_type": "code",
   "execution_count": 1,
   "id": "0b2b3e37",
   "metadata": {},
   "outputs": [
    {
     "name": "stdout",
     "output_type": "stream",
     "text": [
      "6 64 89 222 13 62 5\n",
      "222\n"
     ]
    }
   ],
   "source": [
    "l = list(map(int,input().split()))\n",
    "print(max(l))"
   ]
  },
  {
   "cell_type": "markdown",
   "id": "29aa4412",
   "metadata": {},
   "source": [
    "Вводится вектор. Заменить в нём каждое число Фибоначчи на следующее."
   ]
  },
  {
   "cell_type": "code",
   "execution_count": 4,
   "id": "58e940ec",
   "metadata": {},
   "outputs": [
    {
     "name": "stdout",
     "output_type": "stream",
     "text": [
      "6 64 89 222 13 62 5\n",
      "[6, 64, 144, 222, 21, 62, 8]\n"
     ]
    }
   ],
   "source": [
    "l = list(map(int,input().split()))\n",
    "fib_l = [1,1]\n",
    "i = 1\n",
    "max_from_l = max(l)\n",
    "while fib_l[i] < max_from_l:\n",
    "    fib_l.append(fib_l[i]+fib_l[i-1])\n",
    "    i+=1\n",
    "for i in range(len(l)):\n",
    "    if l[i] in fib_l:\n",
    "        l[i] = fib_l[fib_l.index(l[i])+1]\n",
    "print(l)"
   ]
  },
  {
   "cell_type": "markdown",
   "id": "65a47985",
   "metadata": {},
   "source": [
    "Напишите программу, которая помогает определить какие вещи могут поместиться в рюкзак. Вводится существующий объем рюкзака. Затем вводятся объемы всех вещей, которые хочется туда поместить. Нужно вывести список объемов вещей, которые поместятся в рюкзак. Постарайтесь максимизировать кол-во вошедших вещей."
   ]
  },
  {
   "cell_type": "code",
   "execution_count": 11,
   "id": "0cd005f4",
   "metadata": {},
   "outputs": [
    {
     "name": "stdout",
     "output_type": "stream",
     "text": [
      "20\n",
      "2 4 8 12 16\n",
      "2 4 8 "
     ]
    }
   ],
   "source": [
    "backpack = int(input())\n",
    "l = list(map(int,input().split()))\n",
    "l.sort()\n",
    "i = 0\n",
    "while backpack - l[i] > 0:\n",
    "    print(l[i], end = ' ')\n",
    "    backpack-=l[i]\n",
    "    i+=1"
   ]
  },
  {
   "cell_type": "markdown",
   "id": "e2e8d0dc",
   "metadata": {},
   "source": [
    "Данные об email-адресах студентов хранятся в словаре: {домен:логины} . Нужно дополнить код таким образом, чтобы он вывел все адреса в алфавитном порядке и в формате имя_пользователя@домен"
   ]
  },
  {
   "cell_type": "code",
   "execution_count": 38,
   "id": "7d8571c2",
   "metadata": {},
   "outputs": [
    {
     "name": "stdout",
     "output_type": "stream",
     "text": [
      "{rea.ru: [misha, pasha], study.com: [olga, nastay, igor]}\n",
      "misha@rea.ru\n",
      "pasha@rea.ru\n",
      "olga@study.com\n",
      "nastay@study.com\n",
      "igor@study.com\n"
     ]
    }
   ],
   "source": [
    "import json\n",
    "\n",
    "corr_s = \"\"\n",
    "s = input()\n",
    "i = 0\n",
    "while i < len(s):\n",
    "    if s[i].isalpha():\n",
    "        corr_s += '\"'\n",
    "        while s[i].isalpha() or s[i] == '.':\n",
    "            corr_s += s[i]\n",
    "            i+=1\n",
    "        corr_s += '\"'\n",
    "    corr_s += s[i]\n",
    "    i+=1\n",
    "j = json.loads(corr_s)\n",
    "for k, v in j.items():\n",
    "    for x in v:\n",
    "        print(f\"{x}@{k}\")"
   ]
  }
 ],
 "metadata": {
  "kernelspec": {
   "display_name": "Python 3 (ipykernel)",
   "language": "python",
   "name": "python3"
  },
  "language_info": {
   "codemirror_mode": {
    "name": "ipython",
    "version": 3
   },
   "file_extension": ".py",
   "mimetype": "text/x-python",
   "name": "python",
   "nbconvert_exporter": "python",
   "pygments_lexer": "ipython3",
   "version": "3.9.12"
  }
 },
 "nbformat": 4,
 "nbformat_minor": 5
}

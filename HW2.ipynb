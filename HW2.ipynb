{
 "cells": [
  {
   "cell_type": "markdown",
   "id": "52980f78",
   "metadata": {},
   "source": [
    "На вход подается строка, состоящая из одного числа. Напишите программу, которая удваивает его."
   ]
  },
  {
   "cell_type": "code",
   "execution_count": 1,
   "id": "fccf4e50",
   "metadata": {},
   "outputs": [
    {
     "name": "stdout",
     "output_type": "stream",
     "text": [
      "646\n",
      "1292\n"
     ]
    }
   ],
   "source": [
    "print(int(input())*2)"
   ]
  },
  {
   "cell_type": "markdown",
   "id": "6648b514",
   "metadata": {},
   "source": [
    "Вводится число. Вывести его квадрат."
   ]
  },
  {
   "cell_type": "code",
   "execution_count": 2,
   "id": "86d0caf8",
   "metadata": {},
   "outputs": [
    {
     "name": "stdout",
     "output_type": "stream",
     "text": [
      "23\n",
      "529\n"
     ]
    }
   ],
   "source": [
    "print(int(input())**2)"
   ]
  },
  {
   "cell_type": "markdown",
   "id": "cb683661",
   "metadata": {},
   "source": [
    "Вводятся часы, минуты и секунды. Вывести, сколько секунд прошло с полуночи.\n",
    "Вывести, какая часть суток прошла (число от 0 до 1)."
   ]
  },
  {
   "cell_type": "code",
   "execution_count": 13,
   "id": "b825d112",
   "metadata": {},
   "outputs": [
    {
     "name": "stdout",
     "output_type": "stream",
     "text": [
      "hour: 19\n",
      "minutes: 54\n",
      "seconds: 12\n",
      "71652\n",
      "0.8293\n"
     ]
    }
   ],
   "source": [
    "h = int(list(map(str, input().split()))[1])\n",
    "m = int(list(map(str, input().split()))[1])\n",
    "s = int(list(map(str, input().split()))[1])\n",
    "print(h*3600+m*60+s)\n",
    "print('%.4f' % ((h*3600+m*60+s)/86400))"
   ]
  },
  {
   "cell_type": "markdown",
   "id": "1588b51e",
   "metadata": {},
   "source": [
    "Вводится число. Вывести, оканчивается ли оно на цифру 7, не используя приведение к строке и операции над строками"
   ]
  },
  {
   "cell_type": "code",
   "execution_count": 14,
   "id": "e3453794",
   "metadata": {},
   "outputs": [
    {
     "name": "stdout",
     "output_type": "stream",
     "text": [
      "345437\n",
      "True\n"
     ]
    }
   ],
   "source": [
    "num = int(input())\n",
    "print(num % 10 == 7)"
   ]
  },
  {
   "cell_type": "markdown",
   "id": "00bdd78c",
   "metadata": {},
   "source": [
    "Вводятся коэффициенты уравнения ax2+bx+c=0. Вывести его корни(не забыть проверить, что a не равно 0)"
   ]
  },
  {
   "cell_type": "code",
   "execution_count": 25,
   "id": "15b9b0b9",
   "metadata": {},
   "outputs": [
    {
     "name": "stdout",
     "output_type": "stream",
     "text": [
      "6\n",
      "16\n",
      "-26\n",
      "1.14 и -3.81\n"
     ]
    }
   ],
   "source": [
    "a = int(input())\n",
    "b = int(input())\n",
    "c = int(input())\n",
    "if a == 0:\n",
    "    print(f\"a is zero (x = {-c/b})\")\n",
    "else:\n",
    "    D = b**2 - 4*a*c\n",
    "    x1 = (-b + D**0.5)/(2*a)\n",
    "    x2 = (-b - D**0.5)/(2*a)\n",
    "    print(f\"{'%.2f' % x1} и {'%.2f' % x2}\")"
   ]
  },
  {
   "cell_type": "markdown",
   "id": "fc4e2137",
   "metadata": {},
   "source": [
    "Вводятся три числа. Вывести максимум из них."
   ]
  },
  {
   "cell_type": "code",
   "execution_count": 15,
   "id": "c983a1db",
   "metadata": {},
   "outputs": [
    {
     "name": "stdout",
     "output_type": "stream",
     "text": [
      "4 14 5\n",
      "14\n"
     ]
    }
   ],
   "source": [
    "l = list(map(int, input().split()))\n",
    "print(max(l))"
   ]
  },
  {
   "cell_type": "markdown",
   "id": "a32db3ad",
   "metadata": {},
   "source": [
    "Вводится число. Вывести среднее арифметическое (с точностью до двух знаков после запятой) тех чисел в диапазоне от единицы до введённого числа, которые делятся 5 или являются четными."
   ]
  },
  {
   "cell_type": "code",
   "execution_count": 19,
   "id": "d3376bf3",
   "metadata": {},
   "outputs": [
    {
     "name": "stdout",
     "output_type": "stream",
     "text": [
      "23\n",
      "11.69\n"
     ]
    }
   ],
   "source": [
    "a = int(input())\n",
    "count = 0\n",
    "s = 0\n",
    "for i in range(1,a+1):\n",
    "    if i % 2 == 0 or i % 5 == 0:\n",
    "        s+=i\n",
    "        count+=1\n",
    "print('%.2f' % (s/count))"
   ]
  }
 ],
 "metadata": {
  "kernelspec": {
   "display_name": "Python 3 (ipykernel)",
   "language": "python",
   "name": "python3"
  },
  "language_info": {
   "codemirror_mode": {
    "name": "ipython",
    "version": 3
   },
   "file_extension": ".py",
   "mimetype": "text/x-python",
   "name": "python",
   "nbconvert_exporter": "python",
   "pygments_lexer": "ipython3",
   "version": "3.9.12"
  }
 },
 "nbformat": 4,
 "nbformat_minor": 5
}
